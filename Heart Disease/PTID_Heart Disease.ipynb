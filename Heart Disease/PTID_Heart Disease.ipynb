{
 "cells": [
  {
   "cell_type": "code",
   "execution_count": 30,
   "id": "2638d2f7",
   "metadata": {},
   "outputs": [],
   "source": [
    "import pandas as pd\n",
    "import numpy as np\n",
    "import seaborn as sns\n",
    "import matplotlib.pyplot as plt\n",
    "from sklearn.model_selection import train_test_split, cross_val_score\n",
    "from sklearn.preprocessing import StandardScaler, LabelEncoder\n",
    "from sklearn.linear_model import LogisticRegression\n",
    "from sklearn.tree import DecisionTreeClassifier\n",
    "from sklearn.ensemble import RandomForestClassifier\n",
    "from sklearn.metrics import accuracy_score, classification_report, confusion_matrix\n",
    "import pickle\n",
    "from flask import Flask, request, jsonify, render_template"
   ]
  },
  {
   "cell_type": "markdown",
   "id": "dbbdf9d5",
   "metadata": {},
   "source": [
    "## Reading data from Heart  Disease Dataset"
   ]
  },
  {
   "cell_type": "code",
   "execution_count": 31,
   "id": "c8e34413",
   "metadata": {},
   "outputs": [],
   "source": [
    "df = pd.read_csv(\"values.csv\")\n",
    "df1=pd.read_csv(\"labels.csv\")\n"
   ]
  },
  {
   "cell_type": "markdown",
   "id": "393e194f",
   "metadata": {},
   "source": [
    "## Data Overview"
   ]
  },
  {
   "cell_type": "code",
   "execution_count": 32,
   "id": "89f9221f",
   "metadata": {},
   "outputs": [
    {
     "name": "stdout",
     "output_type": "stream",
     "text": [
      "Data Preview:\n",
      "  patient_id  slope_of_peak_exercise_st_segment               thal  \\\n",
      "0     0z64un                                  1             normal   \n",
      "1     ryoo3j                                  2             normal   \n",
      "2     yt1s1x                                  1             normal   \n",
      "3     l2xjde                                  1  reversible_defect   \n",
      "4     oyt4ek                                  3  reversible_defect   \n",
      "\n",
      "   resting_blood_pressure  chest_pain_type  num_major_vessels  \\\n",
      "0                     128                2                  0   \n",
      "1                     110                3                  0   \n",
      "2                     125                4                  3   \n",
      "3                     152                4                  0   \n",
      "4                     178                1                  0   \n",
      "\n",
      "   fasting_blood_sugar_gt_120_mg_per_dl  resting_ekg_results  \\\n",
      "0                                     0                    2   \n",
      "1                                     0                    0   \n",
      "2                                     0                    2   \n",
      "3                                     0                    0   \n",
      "4                                     0                    2   \n",
      "\n",
      "   serum_cholesterol_mg_per_dl  oldpeak_eq_st_depression  sex  age  \\\n",
      "0                          308                       0.0    1   45   \n",
      "1                          214                       1.6    0   54   \n",
      "2                          304                       0.0    1   77   \n",
      "3                          223                       0.0    1   40   \n",
      "4                          270                       4.2    1   59   \n",
      "\n",
      "   max_heart_rate_achieved  exercise_induced_angina  \n",
      "0                      170                        0  \n",
      "1                      158                        0  \n",
      "2                      162                        1  \n",
      "3                      181                        0  \n",
      "4                      145                        0  \n",
      "\n",
      "Dataset Information:\n",
      "<class 'pandas.core.frame.DataFrame'>\n",
      "RangeIndex: 180 entries, 0 to 179\n",
      "Data columns (total 14 columns):\n",
      " #   Column                                Non-Null Count  Dtype  \n",
      "---  ------                                --------------  -----  \n",
      " 0   patient_id                            180 non-null    object \n",
      " 1   slope_of_peak_exercise_st_segment     180 non-null    int64  \n",
      " 2   thal                                  180 non-null    object \n",
      " 3   resting_blood_pressure                180 non-null    int64  \n",
      " 4   chest_pain_type                       180 non-null    int64  \n",
      " 5   num_major_vessels                     180 non-null    int64  \n",
      " 6   fasting_blood_sugar_gt_120_mg_per_dl  180 non-null    int64  \n",
      " 7   resting_ekg_results                   180 non-null    int64  \n",
      " 8   serum_cholesterol_mg_per_dl           180 non-null    int64  \n",
      " 9   oldpeak_eq_st_depression              180 non-null    float64\n",
      " 10  sex                                   180 non-null    int64  \n",
      " 11  age                                   180 non-null    int64  \n",
      " 12  max_heart_rate_achieved               180 non-null    int64  \n",
      " 13  exercise_induced_angina               180 non-null    int64  \n",
      "dtypes: float64(1), int64(11), object(2)\n",
      "memory usage: 19.8+ KB\n",
      "\n",
      "Summary Statistics:\n",
      "       slope_of_peak_exercise_st_segment  resting_blood_pressure  \\\n",
      "count                         180.000000              180.000000   \n",
      "mean                            1.550000              131.311111   \n",
      "std                             0.618838               17.010443   \n",
      "min                             1.000000               94.000000   \n",
      "25%                             1.000000              120.000000   \n",
      "50%                             1.000000              130.000000   \n",
      "75%                             2.000000              140.000000   \n",
      "max                             3.000000              180.000000   \n",
      "\n",
      "       chest_pain_type  num_major_vessels  \\\n",
      "count       180.000000         180.000000   \n",
      "mean          3.155556           0.694444   \n",
      "std           0.938454           0.969347   \n",
      "min           1.000000           0.000000   \n",
      "25%           3.000000           0.000000   \n",
      "50%           3.000000           0.000000   \n",
      "75%           4.000000           1.000000   \n",
      "max           4.000000           3.000000   \n",
      "\n",
      "       fasting_blood_sugar_gt_120_mg_per_dl  resting_ekg_results  \\\n",
      "count                            180.000000           180.000000   \n",
      "mean                               0.161111             1.050000   \n",
      "std                                0.368659             0.998742   \n",
      "min                                0.000000             0.000000   \n",
      "25%                                0.000000             0.000000   \n",
      "50%                                0.000000             2.000000   \n",
      "75%                                0.000000             2.000000   \n",
      "max                                1.000000             2.000000   \n",
      "\n",
      "       serum_cholesterol_mg_per_dl  oldpeak_eq_st_depression         sex  \\\n",
      "count                   180.000000                180.000000  180.000000   \n",
      "mean                    249.211111                  1.010000    0.688889   \n",
      "std                      52.717969                  1.121357    0.464239   \n",
      "min                     126.000000                  0.000000    0.000000   \n",
      "25%                     213.750000                  0.000000    0.000000   \n",
      "50%                     245.500000                  0.800000    1.000000   \n",
      "75%                     281.250000                  1.600000    1.000000   \n",
      "max                     564.000000                  6.200000    1.000000   \n",
      "\n",
      "              age  max_heart_rate_achieved  exercise_induced_angina  \n",
      "count  180.000000               180.000000               180.000000  \n",
      "mean    54.811111               149.483333                 0.316667  \n",
      "std      9.334737                22.063513                 0.466474  \n",
      "min     29.000000                96.000000                 0.000000  \n",
      "25%     48.000000               132.000000                 0.000000  \n",
      "50%     55.000000               152.000000                 0.000000  \n",
      "75%     62.000000               166.250000                 1.000000  \n",
      "max     77.000000               202.000000                 1.000000  \n"
     ]
    }
   ],
   "source": [
    "print(\"Data Preview:\")\n",
    "print(df.head())\n",
    "print(\"\\nDataset Information:\")\n",
    "df.info()\n",
    "print(\"\\nSummary Statistics:\")\n",
    "print(df.describe())"
   ]
  },
  {
   "cell_type": "markdown",
   "id": "e45ddfe7",
   "metadata": {},
   "source": [
    "# Check for Missing Values"
   ]
  },
  {
   "cell_type": "code",
   "execution_count": 33,
   "id": "f60500de",
   "metadata": {},
   "outputs": [
    {
     "name": "stdout",
     "output_type": "stream",
     "text": [
      "\n",
      "Missing Values:\n",
      "patient_id                              0\n",
      "slope_of_peak_exercise_st_segment       0\n",
      "thal                                    0\n",
      "resting_blood_pressure                  0\n",
      "chest_pain_type                         0\n",
      "num_major_vessels                       0\n",
      "fasting_blood_sugar_gt_120_mg_per_dl    0\n",
      "resting_ekg_results                     0\n",
      "serum_cholesterol_mg_per_dl             0\n",
      "oldpeak_eq_st_depression                0\n",
      "sex                                     0\n",
      "age                                     0\n",
      "max_heart_rate_achieved                 0\n",
      "exercise_induced_angina                 0\n",
      "dtype: int64\n"
     ]
    }
   ],
   "source": [
    "print(\"\\nMissing Values:\")\n",
    "print(df.isnull().sum())\n"
   ]
  },
  {
   "cell_type": "markdown",
   "id": "523e9dfb",
   "metadata": {},
   "source": [
    "# Data Preprocessing"
   ]
  },
  {
   "cell_type": "code",
   "execution_count": 38,
   "id": "555d2c7b",
   "metadata": {},
   "outputs": [],
   "source": [
    "# Remove 'patient_id' as it is a unique identifier and not useful for prediction\n",
    "df1.drop('patient_id', axis=1, inplace=True)"
   ]
  },
  {
   "cell_type": "markdown",
   "id": "13a851e4",
   "metadata": {},
   "source": [
    "# Encoding Categorical Data"
   ]
  },
  {
   "cell_type": "code",
   "execution_count": 37,
   "id": "f17da20c",
   "metadata": {},
   "outputs": [],
   "source": [
    "if 'heart_disease_present' in df1.columns:\n",
    "    features = df1.drop('heart_disease_present', axis=1)\n",
    "else:\n",
    "    print(\"Column 'heart_disease_present' not found in DataFrame. Available columns:\", df1.columns)"
   ]
  },
  {
   "cell_type": "code",
   "execution_count": null,
   "id": "fecc50b2",
   "metadata": {},
   "outputs": [],
   "source": []
  },
  {
   "cell_type": "code",
   "execution_count": null,
   "id": "32bf2bd6",
   "metadata": {},
   "outputs": [],
   "source": []
  }
 ],
 "metadata": {
  "kernelspec": {
   "display_name": "Python 3 (ipykernel)",
   "language": "python",
   "name": "python3"
  },
  "language_info": {
   "codemirror_mode": {
    "name": "ipython",
    "version": 3
   },
   "file_extension": ".py",
   "mimetype": "text/x-python",
   "name": "python",
   "nbconvert_exporter": "python",
   "pygments_lexer": "ipython3",
   "version": "3.11.3"
  }
 },
 "nbformat": 4,
 "nbformat_minor": 5
}
